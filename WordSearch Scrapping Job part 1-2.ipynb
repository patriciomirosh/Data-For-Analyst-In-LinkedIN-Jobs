{
 "cells": [
  {
   "cell_type": "code",
   "execution_count": null,
   "id": "0464a7f3",
   "metadata": {},
   "outputs": [],
   "source": [
    "#If You dont have some of the below packages you have to install first.  pip install \"package\" "
   ]
  },
  {
   "cell_type": "code",
   "execution_count": null,
   "id": "90455ff1",
   "metadata": {},
   "outputs": [],
   "source": [
    "#Import Packages\n",
    "from selenium import webdriver\n",
    "import time\n",
    "import pandas as pd\n",
    "import os"
   ]
  },
  {
   "cell_type": "code",
   "execution_count": null,
   "id": "2287cb40",
   "metadata": {},
   "outputs": [],
   "source": [
    "\n",
    "#Import Packages\n",
    "\n",
    "from selenium.webdriver.support.select import Select\n",
    "from selenium.webdriver.support.ui import WebDriverWait\n",
    "from selenium.webdriver.common.by import By\n",
    "from selenium.webdriver.support import expected_conditions as EC\n",
    "from selenium.webdriver.chrome.service import Service"
   ]
  },
  {
   "cell_type": "code",
   "execution_count": null,
   "id": "d383ce62",
   "metadata": {},
   "outputs": [],
   "source": [
    "#The variables to change are here in this cell. The two variables are : \n",
    "#the path where is the chromedriver.exe\n",
    "pathToChromeDriver=r'C:\\Users\\patricio\\Downloads\\chromedriver_win32\\chromedriver.exe'\n",
    "urlJobs='https://www.linkedin.com/jobs/search/?currentJobId=3445392638&distance=25&f_T=340&geoId=100446943&keywords=data%20analyst&sortBy=R'"
   ]
  },
  {
   "cell_type": "code",
   "execution_count": null,
   "id": "b5ce7e4f",
   "metadata": {},
   "outputs": [],
   "source": [
    "\n",
    "#Load the web driver and get the url\n",
    "service = Service(executable_path=pathToChromeDriver)\n",
    "\n",
    "\n",
    "driver = webdriver.Chrome(service=service)\n",
    "driver.implicitly_wait(10)\n",
    "driver.get(urlJobs)\n",
    "\n",
    "#We save in this variable the cuantity of propose of jobs what we found. \n",
    "n=driver.find_elements(By.CLASS_NAME,'results-context-header__job-count')[0].text\n",
    "ProposeCuantity = pd.to_numeric(n)\n"
   ]
  },
  {
   "cell_type": "code",
   "execution_count": null,
   "id": "48310595",
   "metadata": {},
   "outputs": [],
   "source": [
    "#This code press the button 'buttonShowMoreElements' i times if you wish the program press more time you can change i, in me case 25 times it enought to show 190 job offers, you can infer the value of \"i\" looking the value ProposeCuantity\n",
    "i=0\n",
    "while i<=25:\n",
    "        driver.execute_script(\"window.scrollTo(0, document.body.scrollHeight);\")\n",
    "        i = i+1 \n",
    "        \n",
    "        try:\n",
    "            buttonShowMoreElements= driver.find_elements(By.ID,'ember3271')\n",
    "            driver.execute_script( \"arguments[0].click();\",buttonShowMoreElements)\n",
    "            time.sleep(1)\n",
    "        except:\n",
    "            print(\"done\")\n",
    "            time.sleep(1)"
   ]
  },
  {
   "cell_type": "code",
   "execution_count": null,
   "id": "b51c1fd3",
   "metadata": {},
   "outputs": [],
   "source": [
    "IndexLink=0\n",
    "for j in range(int(ProposeCuantity)):\n",
    "    try:\n",
    "        #Minning the job list and saved the things which are interested to us.\n",
    "        \n",
    "        company= driver.find_elements(By.CLASS_NAME,'base-search-card__subtitle')[j].text\n",
    "        title = driver.find_elements(By.CLASS_NAME,'base-search-card__title')[j].text\n",
    "        place = driver.find_elements(By.CLASS_NAME,'job-search-card__location')[j].text\n",
    "        date = driver.find_elements(By.CLASS_NAME,'job-search-card__listdate' )[j].text\n",
    "       \n",
    "            \n",
    "        if bool(driver.find_elements(By.CLASS_NAME,'base-search-card--link')[j].get_attribute('href')): \n",
    "            link= driver.find_elements(By.CLASS_NAME,'base-search-card--link')[j].get_attribute('href')\n",
    "            IndexLink=IndexLink-1\n",
    "        else:\n",
    "            link= driver.find_elements(By.CLASS_NAME,'base-card__full-link')[IndexLink].get_attribute('href')\n",
    "        \n",
    "        companyname.append(company)\n",
    "        titleName.append(title)\n",
    "        hrefLink.append(link)\n",
    "        dateJob.append(date)\n",
    "        JobPlace.append(place)\n",
    "        IndexLink=IndexLink+1\n",
    "    \n",
    "    except IndexError:\n",
    "        print(\"done\")\n",
    "        "
   ]
  },
  {
   "cell_type": "code",
   "execution_count": null,
   "id": "42c918b9",
   "metadata": {},
   "outputs": [],
   "source": [
    "#Create dataframe for company name, title, Link\n",
    "\n",
    "companyfinal=pd.DataFrame(companyname,columns=[\"company\"])\n",
    "titlefinal=pd.DataFrame(titleName,columns=[\"title\"])\n",
    "LinkFinal=pd.DataFrame(hrefLink,columns=[\"link\"])\n",
    "dateJobFinal=pd.DataFrame(dateJob,columns=[\"dateJob\"])\n",
    "JobPlaceFinal=pd.DataFrame(JobPlace,columns=[\"JobPlace\"])\n"
   ]
  },
  {
   "cell_type": "code",
   "execution_count": null,
   "id": "0f43ef29",
   "metadata": {},
   "outputs": [],
   "source": [
    "import datetime\n",
    "pd.options.display.max_rows = 180\n",
    "#Join the lists to the main data frame.\n",
    "\n",
    "df=companyfinal.join(titlefinal).join(LinkFinal).join(dateJobFinal).join(JobPlaceFinal)\n",
    "df=df.drop(columns='Unnamed: 0')\n",
    "\n",
    "\n",
    "\n",
    "\n"
   ]
  },
  {
   "cell_type": "code",
   "execution_count": null,
   "id": "8d2e9a25",
   "metadata": {},
   "outputs": [],
   "source": [
    "#Save the file in your directory\n",
    "df.to_csv('linkedinDate1002')"
   ]
  }
 ],
 "metadata": {
  "kernelspec": {
   "display_name": "Python 3",
   "language": "python",
   "name": "python3"
  },
  "language_info": {
   "codemirror_mode": {
    "name": "ipython",
    "version": 3
   },
   "file_extension": ".py",
   "mimetype": "text/x-python",
   "name": "python",
   "nbconvert_exporter": "python",
   "pygments_lexer": "ipython3",
   "version": "3.9.13"
  },
  "vscode": {
   "interpreter": {
    "hash": "d28a7c0d26f10b8bbd7fd9f7823cc0c2dabce89918bd027fd3f04f50fd2a81d8"
   }
  }
 },
 "nbformat": 4,
 "nbformat_minor": 5
}
